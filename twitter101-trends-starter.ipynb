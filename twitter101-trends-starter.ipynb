{
 "metadata": {
  "kernelspec": {
   "display_name": "Python 2",
   "language": "python",
   "name": "python2"
  },
  "language_info": {
   "codemirror_mode": {
    "name": "ipython",
    "version": 2
   },
   "file_extension": ".py",
   "mimetype": "text/x-python",
   "name": "python",
   "nbconvert_exporter": "python",
   "pygments_lexer": "ipython2",
   "version": "2.7.9"
  },
  "name": "",
  "signature": "sha256:7e2400dc5b96710899fd8d7967d28f4ebe591ce6087119e3c61a440d829d1902"
 },
 "nbformat": 3,
 "nbformat_minor": 0,
 "worksheets": [
  {
   "cells": [
    {
     "cell_type": "heading",
     "level": 1,
     "metadata": {},
     "source": [
      "Twitter 101 - Get Trends - solution"
     ]
    },
    {
     "cell_type": "markdown",
     "metadata": {},
     "source": [
      "##Configure Twitter API. \n"
     ]
    },
    {
     "cell_type": "code",
     "collapsed": false,
     "input": [
      "import twitter   # wrapper for twitter API\n",
      "import config    # has twitter API credential\n",
      "import json      # serialize and deseralize json\n",
      "from pylib import utils  # expose some utility functions from our custom pylib.utils\n",
      "\n",
      "# This creates an OAuth authenticator object\n",
      "# the OAuth object can encode your credential and add other relevant information   \n",
      "# such that the encoded information is attached to each API request \n",
      "# so that Twitter knows that it is dealing with you.\n",
      "\n",
      "auth = twitter.oauth.OAuth(config.oauth_token, config.oauth_token_secret,\n",
      "config.consumer_key, config.consumer_secret)\n",
      "\n",
      "# make a twitter API object by supplying the auth object\n",
      "api = twitter.Twitter(auth=auth)\n",
      "\n",
      "    print api\n",
      "#at this point, everything is done locally; you have not contacted Twitter.\n",
      "# but you are ready to make API calls."
     ],
     "language": "python",
     "metadata": {},
     "outputs": [
      {
       "output_type": "stream",
       "stream": "stdout",
       "text": [
        "<twitter.api.Twitter object at 0x000000000368A2E8>\n"
       ]
      }
     ],
     "prompt_number": 1
    },
    {
     "cell_type": "heading",
     "level": 2,
     "metadata": {},
     "source": [
      "Get Trends for specific locations - the World"
     ]
    },
    {
     "cell_type": "markdown",
     "metadata": {},
     "source": [
      "see https://dev.twitter.com/rest/reference/get/trends/place for details about this API endpoint\n",
      "The IDs provided below are [Yahoo! Where On Earth ID](http://developer.yahoo.com/geo/geoplanet/). To look up the WOEID of a specific place, you may use this free service http://woeid.rosselliot.co.nz/lookup/"
     ]
    },
    {
     "cell_type": "code",
     "collapsed": false,
     "input": [
      "WORLD_WOE_ID = 1\n",
      "\n",
      "# Prefix parameter ID with the underscore because \n",
      "# without the underscore, the twitter package appends the ID value\n",
      "# to the URL itself as a special case keyword argument.\n",
      "\n",
      "world_trends = api.trends.place(_id = WORLD_WOE_ID)"
     ],
     "language": "python",
     "metadata": {},
     "outputs": [],
     "prompt_number": 2
    },
    {
     "cell_type": "heading",
     "level": 2,
     "metadata": {},
     "source": [
      "Print the response"
     ]
    },
    {
     "cell_type": "markdown",
     "metadata": {},
     "source": [
      "You can print the twitter response world_trends, but the default format is not very legible. \n",
      "\n",
      "```u'created_at'```: ```u'``` stands for unicode. "
     ]
    },
    {
     "cell_type": "code",
     "collapsed": false,
     "input": [
      "print world_trends"
     ],
     "language": "python",
     "metadata": {},
     "outputs": [
      {
       "output_type": "stream",
       "stream": "stdout",
       "text": [
        "[{u'created_at': u'2015-09-28T18:31:01Z', u'trends': [{u'url': u'http://twitter.com/search?q=Marte', u'query': u'Marte', u'name': u'Marte', u'promoted_content': None}, {u'url': u'http://twitter.com/search?q=%232YearsOfLarryMarried', u'query': u'%232YearsOfLarryMarried', u'name': u'#2YearsOfLarryMarried', u'promoted_content': None}, {u'url': u'http://twitter.com/search?q=%23QuieroUnMundoDonde', u'query': u'%23QuieroUnMundoDonde', u'name': u'#QuieroUnMundoDonde', u'promoted_content': None}, {u'url': u'http://twitter.com/search?q=%23%D8%B4%D9%8A_%D9%84%D9%88_%D9%8A%D8%AD%D8%A8%D9%87_%D8%A7%D9%84%D9%83%D9%84_%D9%85%D8%B3%D8%AA%D8%AD%D9%8A%D9%84_%D8%AA%D8%AD%D8%A8%D9%87', u'query': u'%23%D8%B4%D9%8A_%D9%84%D9%88_%D9%8A%D8%AD%D8%A8%D9%87_%D8%A7%D9%84%D9%83%D9%84_%D9%85%D8%B3%D8%AA%D8%AD%D9%8A%D9%84_%D8%AA%D8%AD%D8%A8%D9%87', u'name': u'#\\u0634\\u064a_\\u0644\\u0648_\\u064a\\u062d\\u0628\\u0647_\\u0627\\u0644\\u0643\\u0644_\\u0645\\u0633\\u062a\\u062d\\u064a\\u0644_\\u062a\\u062d\\u0628\\u0647', u'promoted_content': None}, {u'url': u'http://twitter.com/search?q=%23R%C3%BCzgaraF%C4%B1s%C4%B1lda', u'query': u'%23R%C3%BCzgaraF%C4%B1s%C4%B1lda', u'name': u'#R\\xfczgaraF\\u0131s\\u0131lda', u'promoted_content': None}, {u'url': u'http://twitter.com/search?q=%23CamsOldPhotos', u'query': u'%23CamsOldPhotos', u'name': u'#CamsOldPhotos', u'promoted_content': None}, {u'url': u'http://twitter.com/search?q=%22Te+Amaremos+SIEMPRE+Viciconte%22', u'query': u'%22Te+Amaremos+SIEMPRE+Viciconte%22', u'name': u'Te Amaremos SIEMPRE Viciconte', u'promoted_content': None}, {u'url': u'http://twitter.com/search?q=%22George+Zimmerman%22', u'query': u'%22George+Zimmerman%22', u'name': u'George Zimmerman', u'promoted_content': None}, {u'url': u'http://twitter.com/search?q=%23D%C4%B0HAyaDokunma', u'query': u'%23D%C4%B0HAyaDokunma', u'name': u'#D\\u0130HAyaDokunma', u'promoted_content': None}, {u'url': u'http://twitter.com/search?q=%23wakeupjames', u'query': u'%23wakeupjames', u'name': u'#wakeupjames', u'promoted_content': None}], u'as_of': u'2015-09-28T18:33:29Z', u'locations': [{u'woeid': 1, u'name': u'Worldwide'}]}]\n"
       ]
      }
     ],
     "prompt_number": 3
    },
    {
     "cell_type": "markdown",
     "metadata": {},
     "source": [
      "##4. Pretty print the results using the json.dumps from the Json package\n",
      "\n",
      "```json.dumps``` serializes an python object so that it can be saved to a text file or printed on screen.\n"
     ]
    },
    {
     "cell_type": "code",
     "collapsed": false,
     "input": [
      "print json.dumps(world_trends,indent=2)"
     ],
     "language": "python",
     "metadata": {},
     "outputs": [
      {
       "output_type": "stream",
       "stream": "stdout",
       "text": [
        "[\n",
        "  {\n",
        "    \"created_at\": \"2015-09-28T18:31:01Z\", \n",
        "    \"trends\": [\n",
        "      {\n",
        "        \"url\": \"http://twitter.com/search?q=Marte\", \n",
        "        \"query\": \"Marte\", \n",
        "        \"name\": \"Marte\", \n",
        "        \"promoted_content\": null\n",
        "      }, \n",
        "      {\n",
        "        \"url\": \"http://twitter.com/search?q=%232YearsOfLarryMarried\", \n",
        "        \"query\": \"%232YearsOfLarryMarried\", \n",
        "        \"name\": \"#2YearsOfLarryMarried\", \n",
        "        \"promoted_content\": null\n",
        "      }, \n",
        "      {\n",
        "        \"url\": \"http://twitter.com/search?q=%23QuieroUnMundoDonde\", \n",
        "        \"query\": \"%23QuieroUnMundoDonde\", \n",
        "        \"name\": \"#QuieroUnMundoDonde\", \n",
        "        \"promoted_content\": null\n",
        "      }, \n",
        "      {\n",
        "        \"url\": \"http://twitter.com/search?q=%23%D8%B4%D9%8A_%D9%84%D9%88_%D9%8A%D8%AD%D8%A8%D9%87_%D8%A7%D9%84%D9%83%D9%84_%D9%85%D8%B3%D8%AA%D8%AD%D9%8A%D9%84_%D8%AA%D8%AD%D8%A8%D9%87\", \n",
        "        \"query\": \"%23%D8%B4%D9%8A_%D9%84%D9%88_%D9%8A%D8%AD%D8%A8%D9%87_%D8%A7%D9%84%D9%83%D9%84_%D9%85%D8%B3%D8%AA%D8%AD%D9%8A%D9%84_%D8%AA%D8%AD%D8%A8%D9%87\", \n",
        "        \"name\": \"#\\u0634\\u064a_\\u0644\\u0648_\\u064a\\u062d\\u0628\\u0647_\\u0627\\u0644\\u0643\\u0644_\\u0645\\u0633\\u062a\\u062d\\u064a\\u0644_\\u062a\\u062d\\u0628\\u0647\", \n",
        "        \"promoted_content\": null\n",
        "      }, \n",
        "      {\n",
        "        \"url\": \"http://twitter.com/search?q=%23R%C3%BCzgaraF%C4%B1s%C4%B1lda\", \n",
        "        \"query\": \"%23R%C3%BCzgaraF%C4%B1s%C4%B1lda\", \n",
        "        \"name\": \"#R\\u00fczgaraF\\u0131s\\u0131lda\", \n",
        "        \"promoted_content\": null\n",
        "      }, \n",
        "      {\n",
        "        \"url\": \"http://twitter.com/search?q=%23CamsOldPhotos\", \n",
        "        \"query\": \"%23CamsOldPhotos\", \n",
        "        \"name\": \"#CamsOldPhotos\", \n",
        "        \"promoted_content\": null\n",
        "      }, \n",
        "      {\n",
        "        \"url\": \"http://twitter.com/search?q=%22Te+Amaremos+SIEMPRE+Viciconte%22\", \n",
        "        \"query\": \"%22Te+Amaremos+SIEMPRE+Viciconte%22\", \n",
        "        \"name\": \"Te Amaremos SIEMPRE Viciconte\", \n",
        "        \"promoted_content\": null\n",
        "      }, \n",
        "      {\n",
        "        \"url\": \"http://twitter.com/search?q=%22George+Zimmerman%22\", \n",
        "        \"query\": \"%22George+Zimmerman%22\", \n",
        "        \"name\": \"George Zimmerman\", \n",
        "        \"promoted_content\": null\n",
        "      }, \n",
        "      {\n",
        "        \"url\": \"http://twitter.com/search?q=%23D%C4%B0HAyaDokunma\", \n",
        "        \"query\": \"%23D%C4%B0HAyaDokunma\", \n",
        "        \"name\": \"#D\\u0130HAyaDokunma\", \n",
        "        \"promoted_content\": null\n",
        "      }, \n",
        "      {\n",
        "        \"url\": \"http://twitter.com/search?q=%23wakeupjames\", \n",
        "        \"query\": \"%23wakeupjames\", \n",
        "        \"name\": \"#wakeupjames\", \n",
        "        \"promoted_content\": null\n",
        "      }\n",
        "    ], \n",
        "    \"as_of\": \"2015-09-28T18:33:29Z\", \n",
        "    \"locations\": [\n",
        "      {\n",
        "        \"woeid\": 1, \n",
        "        \"name\": \"Worldwide\"\n",
        "      }\n",
        "    ]\n",
        "  }\n",
        "]\n"
       ]
      }
     ],
     "prompt_number": 4
    },
    {
     "cell_type": "code",
     "collapsed": false,
     "input": [
      "utils.dump_json(world_trends,\"world_trends.json\")"
     ],
     "language": "python",
     "metadata": {},
     "outputs": [
      {
       "output_type": "stream",
       "stream": "stdout",
       "text": [
        "json data written to world_trends.json\n"
       ]
      }
     ],
     "prompt_number": 5
    },
    {
     "cell_type": "markdown",
     "metadata": {},
     "source": [
      "##Need help on the package?\n",
      "\n",
      "the twitter package we installed is hosted on Github (as many other packages) https://github.com/sixohsix/twitter. \n",
      "\n",
      "You can find some documentation there as well as source codes.\n",
      "\n",
      "Below is another way to get some help:"
     ]
    },
    {
     "cell_type": "code",
     "collapsed": false,
     "input": [
      "# sometime it is useful to get help on the specific API object/class. e.g.\n",
      "# it tells you where this function/class is defined\n",
      "# and what arguments the function/class has.\n",
      "# sometimes it also contains a description of the function/class\n",
      "api.trends.place?"
     ],
     "language": "python",
     "metadata": {},
     "outputs": [],
     "prompt_number": 11
    },
    {
     "cell_type": "code",
     "collapsed": true,
     "input": [
      "utils.dump_json?"
     ],
     "language": "python",
     "metadata": {},
     "outputs": [],
     "prompt_number": 7
    },
    {
     "cell_type": "heading",
     "level": 2,
     "metadata": {},
     "source": [
      "Todo: now it is your turn to get the latest twitter trends in US."
     ]
    },
    {
     "cell_type": "code",
     "collapsed": false,
     "input": [
      "# this is the geo location ID for US.\n",
      "US_WOE_ID = 23424977"
     ],
     "language": "python",
     "metadata": {},
     "outputs": [],
     "prompt_number": 8
    },
    {
     "cell_type": "code",
     "collapsed": false,
     "input": [
      "#use the trends.place to get latest trends, save response to us_trends.\n",
      "us_trends = api.trends.place(_id = US_WOE_ID)\n",
      "#then display the response in an indented format \n",
      "print json.dumps(us_trends,indent=2)"
     ],
     "language": "python",
     "metadata": {},
     "outputs": [
      {
       "output_type": "stream",
       "stream": "stdout",
       "text": [
        "[\n",
        "  {\n",
        "    \"created_at\": \"2015-09-28T18:36:02Z\", \n",
        "    \"trends\": [\n",
        "      {\n",
        "        \"url\": \"http://twitter.com/search?q=%23MarsAnnouncement\", \n",
        "        \"query\": \"%23MarsAnnouncement\", \n",
        "        \"name\": \"#MarsAnnouncement\", \n",
        "        \"promoted_content\": null\n",
        "      }, \n",
        "      {\n",
        "        \"url\": \"http://twitter.com/search?q=%23mondaymotivation\", \n",
        "        \"query\": \"%23mondaymotivation\", \n",
        "        \"name\": \"#mondaymotivation\", \n",
        "        \"promoted_content\": null\n",
        "      }, \n",
        "      {\n",
        "        \"url\": \"http://twitter.com/search?q=%23DuragHistoryWeek\", \n",
        "        \"query\": \"%23DuragHistoryWeek\", \n",
        "        \"name\": \"#DuragHistoryWeek\", \n",
        "        \"promoted_content\": null\n",
        "      }, \n",
        "      {\n",
        "        \"url\": \"http://twitter.com/search?q=%23UNGA\", \n",
        "        \"query\": \"%23UNGA\", \n",
        "        \"name\": \"#UNGA\", \n",
        "        \"promoted_content\": null\n",
        "      }, \n",
        "      {\n",
        "        \"url\": \"http://twitter.com/search?q=%22George+Zimmerman%22\", \n",
        "        \"query\": \"%22George+Zimmerman%22\", \n",
        "        \"name\": \"George Zimmerman\", \n",
        "        \"promoted_content\": null\n",
        "      }, \n",
        "      {\n",
        "        \"url\": \"http://twitter.com/search?q=%23CamsOldPhotos\", \n",
        "        \"query\": \"%23CamsOldPhotos\", \n",
        "        \"name\": \"#CamsOldPhotos\", \n",
        "        \"promoted_content\": null\n",
        "      }, \n",
        "      {\n",
        "        \"url\": \"http://twitter.com/search?q=%22August+Alsina%22\", \n",
        "        \"query\": \"%22August+Alsina%22\", \n",
        "        \"name\": \"August Alsina\", \n",
        "        \"promoted_content\": null\n",
        "      }, \n",
        "      {\n",
        "        \"url\": \"http://twitter.com/search?q=Arctic\", \n",
        "        \"query\": \"Arctic\", \n",
        "        \"name\": \"Arctic\", \n",
        "        \"promoted_content\": null\n",
        "      }, \n",
        "      {\n",
        "        \"url\": \"http://twitter.com/search?q=%22Ty+Lawson%22\", \n",
        "        \"query\": \"%22Ty+Lawson%22\", \n",
        "        \"name\": \"Ty Lawson\", \n",
        "        \"promoted_content\": null\n",
        "      }, \n",
        "      {\n",
        "        \"url\": \"http://twitter.com/search?q=Kunduz\", \n",
        "        \"query\": \"Kunduz\", \n",
        "        \"name\": \"Kunduz\", \n",
        "        \"promoted_content\": null\n",
        "      }\n",
        "    ], \n",
        "    \"as_of\": \"2015-09-28T18:41:48Z\", \n",
        "    \"locations\": [\n",
        "      {\n",
        "        \"woeid\": 23424977, \n",
        "        \"name\": \"United States\"\n",
        "      }\n",
        "    ]\n",
        "  }\n",
        "]\n"
       ]
      }
     ],
     "prompt_number": 9
    },
    {
     "cell_type": "code",
     "collapsed": false,
     "input": [
      "# save results in us_trends.json\n",
      "utils.dump_json(us_trends,\"us_trends.json\")"
     ],
     "language": "python",
     "metadata": {},
     "outputs": [
      {
       "output_type": "stream",
       "stream": "stdout",
       "text": [
        "json data written to us_trends.json\n"
       ]
      }
     ],
     "prompt_number": 10
    },
    {
     "cell_type": "code",
     "collapsed": true,
     "input": [],
     "language": "python",
     "metadata": {},
     "outputs": [],
     "prompt_number": null
    }
   ],
   "metadata": {}
  }
 ]
}