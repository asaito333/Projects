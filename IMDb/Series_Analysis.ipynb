{
 "cells": [
  {
   "cell_type": "markdown",
   "metadata": {},
   "source": [
    "# IMDb Series Performance Analysis"
   ]
  },
  {
   "cell_type": "markdown",
   "metadata": {},
   "source": [
    "##0. Configuration"
   ]
  },
  {
   "cell_type": "code",
   "execution_count": null,
   "metadata": {
    "collapsed": true
   },
   "outputs": [],
   "source": [
    "from pandas import DataFrame,Series\n",
    "import pandas as pd\n",
    "import matplotlib.pyplot as plt"
   ]
  },
  {
   "cell_type": "markdown",
   "metadata": {},
   "source": [
    "## 1. Create Series data"
   ]
  },
  {
   "cell_type": "code",
   "execution_count": null,
   "metadata": {
    "collapsed": true
   },
   "outputs": [],
   "source": [
    "def create_series_data():\n",
    "    \n",
    "    ### Title data\n",
    "    title = pd.read_csv(\"title.csv\", delimiter=\";\")\n",
    "    title = title.drop([\"phonetic_code\",\"episode_of_id\",\"season_nr\",\"episode_nr\",\"md5sum\"], axis=1)\n",
    "    #title = title[title[\"production_year\"] >= 1970]\n",
    "    title = title[title[\"kind_id\"] == 1]\n",
    "    prd_years= title[[\"id\",\"production_year\",\"title\"]]\n",
    "    \n",
    "    ### Series data\n",
    "    movie_link = pd.read_csv(\"movie_link.csv\", delimiter=\";\") \n",
    "    movie_link = movie_link[movie_link[\"link_type_id\"] == 1]  # 1;\"follows\"\n",
    "    \n",
    "    # Get production years of linked movies\n",
    "    movie_link = pd.merge(movie_link, prd_years,\n",
    "                left_on=['linked_movie_id'],\n",
    "                right_on=['id'],\n",
    "                how='inner')\n",
    "    \n",
    "    movie_link = movie_link.sort([\"movie_id\", 'production_year',\"title\"], ascending=[1,1,1])\n",
    "    movie_link_d = movie_link.drop_duplicates(['movie_id'], take_last=False)\n",
    "    movie_link_d = movie_link_d[[\"movie_id\",\"linked_movie_id\"]]\n",
    "    \n",
    "    ### Merge series data (Series2~)\n",
    "    series2 = pd.merge(title, movie_link_d,\n",
    "                left_on=['id'],\n",
    "                right_on=['movie_id'],\n",
    "                how='inner')\n",
    "    \n",
    "    series2 = series2.sort([\"linked_movie_id\", 'production_year'], ascending=[1,1])\n",
    "            \n",
    "    ### Merge series data (Series1)\n",
    "    movie_link_d = movie_link_d.drop_duplicates(['linked_movie_id'], take_last=False)\n",
    "    movie_link_d = movie_link_d.drop([\"movie_id\"], axis=1)\n",
    "    \n",
    "    series1 = pd.merge(title, movie_link_d,\n",
    "                left_on=['id'],\n",
    "                right_on=['linked_movie_id'],\n",
    "                how='inner')\n",
    "    \n",
    "    series1[\"linked_movie_id\"] = series1[\"id\"]\n",
    "    \n",
    "    ### Convine series data \n",
    "    series = pd.concat([series1,series2])\n",
    "    series = series.sort([\"linked_movie_id\", 'production_year',\"title\"], ascending=[1,1,1])\n",
    "    series = series.reset_index()\n",
    "\n",
    "    ### Define series number\n",
    "    series[\"series_num\"] = 0\n",
    "    id_tmp = 0\n",
    "    series_num = 0\n",
    "    count = 0\n",
    "    for i in range(0,len(series.index)):\n",
    "        if series[\"linked_movie_id\"][i] != id_tmp:\n",
    "            count = 1\n",
    "        else: \n",
    "            count += 1\n",
    "        series[\"series_num\"][i] = count\n",
    "        id_tmp = series[\"linked_movie_id\"][i]\n",
    "           \n",
    "    series_r = series[series[\"production_year\"] >= 1970]\n",
    "    series_r[\"series_num\"][series_r[\"series_num\"] > 10] = 10\n",
    "    return series_r"
   ]
  },
  {
   "cell_type": "markdown",
   "metadata": {},
   "source": [
    "## 2. Create ratings data"
   ]
  },
  {
   "cell_type": "code",
   "execution_count": null,
   "metadata": {
    "collapsed": true
   },
   "outputs": [],
   "source": [
    "def read_ratings():\n",
    "    movie_info_idx = pd.read_csv(\"movie_info_idx.csv\", delimiter=\",\") \n",
    "    ratings = movie_info_idx[movie_info_idx[\"info_type_id\"] == 101]\n",
    "    ratings[\"ratings\"] = ratings[\"info\"].astype(float)\n",
    "    ratings = ratings.drop([\"id\",\"info_type_id\",\"note\",\"info\"],axis=1)\n",
    "    ratings[\"flag_r\"] = 1\n",
    "    return ratings"
   ]
  },
  {
   "cell_type": "markdown",
   "metadata": {},
   "source": [
    "## 3. Create BoxOffice data"
   ]
  },
  {
   "cell_type": "code",
   "execution_count": null,
   "metadata": {
    "collapsed": true
   },
   "outputs": [],
   "source": [
    "# Define function: Choose only USA\n",
    "def find_usa(x):\n",
    "    return x.find(\"(USA)\")\n",
    "\n",
    "# Define function: Grasp only box office digits\n",
    "def cnv_degit(x):\n",
    "    y = x[:x.find('(USA)')]\n",
    "    return int(filter(str.isdigit, y))\n",
    "\n",
    "def read_boxoffice():\n",
    "    movie_info_new = pd.read_csv(\"movie_info_new.csv\", delimiter=\";\") \n",
    "    box_off = movie_info_new[movie_info_new[\"info_type_id\"] == 107]  # Choose box office \n",
    "    box_off = box_off[box_off[\"info\"].map(find_usa) > 0]   # Choose only USA\n",
    "    box_off = box_off.drop([\"id\",\"info_type_id\",\"note\"],axis=1)\n",
    "    box_off[\"box_office\"] = box_off[\"info\"].map(cnv_degit) /1000000 # Grasp only box office digits\n",
    "    \n",
    "    box_off_max = box_off.groupby(['movie_id'])[\"box_office\"].max().reset_index()\n",
    "    box_off_max[\"flag_b\"] = 1\n",
    "    return box_off_max"
   ]
  },
  {
   "cell_type": "markdown",
   "metadata": {},
   "source": [
    "## 4. Output"
   ]
  },
  {
   "cell_type": "code",
   "execution_count": null,
   "metadata": {
    "collapsed": true
   },
   "outputs": [],
   "source": [
    "def output():\n",
    "    fig = plt.figure()\n",
    "    ax1 = fig.add_subplot(2,2,1)\n",
    "    ax2 = fig.add_subplot(2,2,2) \n",
    "    ax3 = fig.add_subplot(2,2,3) \n",
    "    ax4 = fig.add_subplot(2,2,4) \n",
    "    \n",
    "    ## Average ratings by series_num\n",
    "    series_max = series_r[series_r[\"production_year\"] > 2004].groupby([\"linked_movie_id\"])[\"series_num\"].max().reset_index()\n",
    "    \n",
    "    def get_series(series_data, series_max_data, var, max_series):\n",
    "        series_maxx = series_max_data[series_max_data[\"series_num\"] == max_series]\n",
    "        series_maxx = series_maxx.drop([\"series_num\"], axis=1)\n",
    "        series_rr = pd.merge(series_data, series_maxx,\n",
    "                    left_on=['linked_movie_id'],\n",
    "                    right_on=['linked_movie_id'],\n",
    "                    how='inner')\n",
    "        series_r_mean = series_rr.groupby([\"series_num\"])[var].mean()\n",
    "        return series_r_mean\n",
    "    \n",
    "    series_r_mean2 = get_series(series_data=series_r, series_max_data=series_max, var=\"ratings\", max_series=2)\n",
    "    series_r_mean3 = get_series(series_data=series_r, series_max_data=series_max, var=\"ratings\", max_series=3)\n",
    "    series_r_mean4 = get_series(series_data=series_r, series_max_data=series_max, var=\"ratings\", max_series=4)\n",
    "    \n",
    "    series_r_mean = DataFrame({\"2 Series\":series_r_mean2, \"3 Series\":series_r_mean3, \"4 Series\":series_r_mean4})\n",
    "\n",
    "    plt.ylabel('Average ratings')\n",
    "    ax1 = series_r_mean.plot(kind=\"bar\",color=(\"steelblue\",\"firebrick\",\"goldenrod\"), width = 0.8)\n",
    "    \n",
    "    plt.show()\n",
    "    \n",
    "    ## Average box office by series_num\n",
    "    series_box_mean2 = get_series(series_data=series_r, series_max_data=series_max, var=\"box_office\", max_series=2)\n",
    "    series_box_mean3 = get_series(series_data=series_r, series_max_data=series_max, var=\"box_office\", max_series=3)\n",
    "    series_box_mean4 = get_series(series_data=series_r, series_max_data=series_max, var=\"box_office\", max_series=4)\n",
    "    #series_box_cnt = series_r.groupby([\"series_num\"])[\"box_office\"].count()\n",
    "    \n",
    "    series_box_mean = DataFrame({\"2 Series\":series_box_mean2, \"3 Series\":series_box_mean3, \"4 Series\":series_box_mean4})\n",
    "    \n",
    "    #plt.title('Average box office of movies by series')\n",
    "    plt.ylabel('Average box office')\n",
    "    ax3 = series_box_mean.plot(kind=\"bar\",color=(\"steelblue\",\"firebrick\",\"goldenrod\"), width = 0.8)\n",
    "    \n",
    "    plt.show()\n"
   ]
  },
  {
   "cell_type": "markdown",
   "metadata": {},
   "source": [
    "##5. Main program"
   ]
  },
  {
   "cell_type": "code",
   "execution_count": null,
   "metadata": {
    "collapsed": true
   },
   "outputs": [],
   "source": [
    "series_r    = create_series_data()\n",
    "ratings     = read_ratings()\n",
    "box_off_max = read_boxoffice()\n",
    "\n",
    "series_r = pd.merge(series_r, ratings,\n",
    "            left_on=['id'],\n",
    "            right_on=['movie_id'],\n",
    "            how='left')\n",
    "\n",
    "series_r = pd.merge(series_r, box_off_max,\n",
    "            left_on=['id'],\n",
    "            right_on=['movie_id'],\n",
    "            how='left')\n",
    "                \n",
    "output()\n",
    "\n",
    "#aa = series_r[[\"id\",\"linked_movie_id\",\"title\",\"series_num\",\"\"]]\n",
    "series_r.to_csv(\"series_data.csv\")"
   ]
  }
 ],
 "metadata": {
  "kernelspec": {
   "display_name": "Python 2",
   "language": "python",
   "name": "python2"
  },
  "language_info": {
   "codemirror_mode": {
    "name": "ipython",
    "version": 2
   },
   "file_extension": ".py",
   "mimetype": "text/x-python",
   "name": "python",
   "nbconvert_exporter": "python",
   "pygments_lexer": "ipython2",
   "version": "2.7.9"
  }
 },
 "nbformat": 4,
 "nbformat_minor": 0
}
